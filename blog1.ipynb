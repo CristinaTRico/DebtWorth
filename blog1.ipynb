{
 "cells": [
  {
   "cell_type": "markdown",
   "metadata": {},
   "source": [
    "Ever what happens when customers don't make good on their bank loans? Once a bank has decided that a debt is uncollectabled, the bank doens't just forfeit the money they are owed. Instead the bank will assign a score to the account which will assess how much money the bank is exected to recover from the customer eventually. The assessment score is a function of the total debt, the probability of the customer paying and many other features that can impact the customers ability to repay the debt. \n",
    "\n",
    "The more a bank expects to recover the mroe effort the bank is willing to expend in order to recoer it through continuious contact with the debtor. IF the debt to be recovered is not very large then a bank can just add the customer to an automatic dialing or emailing system. Howeever for larger values, broken up into thresholds, the cost put into recovery will increase by 50$\n",
    "\n",
    "This analysis will investigate if the debt recovered at a higher threshold exceedd the added costs in recoering it. "
   ]
  },
  {
   "cell_type": "code",
   "execution_count": null,
   "metadata": {},
   "outputs": [],
   "source": [
    "# imports\n",
    "import pandas as pd\n",
    "import numpy as np\n",
    "from matplotlib import pyplot as plt\n",
    "%matplotlib inline\n",
    "\n",
    "# import stats module\n",
    "from scipy import stats\n",
    "\n",
    "# read in csv\n",
    "df = pd.read_csv('datasets/bank_data.csv')\n",
    "\n",
    "# print the first 5 rows of the df\n",
    "df.head()"
   ]
  },
  {
   "cell_type": "markdown",
   "metadata": {},
   "source": [
    "Although banks set several thresholds and different strategies for each this analysis will focus on the first threshold, Level 0 and Level 1 as defined below:\n",
    "* Level 0: 0 < Expected Recovery <= 1000\n",
    "* Level 1: 1001 < Expected Recover <= 2000\n",
    "\n",
    "We will work to identify if there are any other factors besides the amount the bank expects to recover to distinguish between a level 0 effort or a level 1 effort. For example, is there a difference in age betweent he debtors on level 0 compared to level 1? To investigate we will construct a scatter plot of age as a function of Expected REcovery for the range of 0 - 2000, which covers level 0 and level 1 "
   ]
  },
  {
   "cell_type": "code",
   "execution_count": null,
   "metadata": {},
   "outputs": [],
   "source": [
    "# scatter plot of age vs expected recovery\n",
    "plt.scatter(x=df['expected_recovery_amount'], y=df['age'], c=\"g\", s=2)\n",
    "plt.xlim(0, 2000)\n",
    "plt.ylim(0, 60)\n",
    "plt.xlabel('Expected Recovery Amount')\n",
    "plt.ylabel('Age')\n",
    "plt.legend(loc=2)\n",
    "plt.axvline(x=1000, ymin=0, ymax=60, color = 'black')\n",
    "plt.show()"
   ]
  },
  {
   "cell_type": "markdown",
   "metadata": {},
   "source": [
    "In order to confidently state that a bank's recovery strategy is due to the expected recovery amount we need to rule out other factors. In a sense we want to rule out a statistical difference in factors such as age, or sex of debtors in level 0 and level 1. \n",
    "\n",
    "When examining the plot above there is not an glaring difference in age between level 0 and level 1. In order to determine that there is no statically significant difference in age we will conduct the Kruskal-Wallis test, of the distribution of ages for level and level 1 debtors "
   ]
  },
  {
   "cell_type": "code",
   "execution_count": null,
   "metadata": {},
   "outputs": [],
   "source": [
    "# compute average age just below and above the threshold\n",
    "era_900_1100 = df.loc[(df['expected_recovery_amount']<1100) & \n",
    "                      (df['expected_recovery_amount']>=900)]\n",
    "by_recovery_strategy = era_900_1100.groupby(['recovery_strategy'])\n",
    "by_recovery_strategy['age'].describe().unstack()\n",
    "\n",
    "# perform Kruskal-Wallis test \n",
    "Level_0_age = era_900_1100.loc[df['recovery_strategy']==\"Level 0 Recovery\"]['age']\n",
    "Level_1_age = era_900_1100.loc[df['recovery_strategy']==\"Level 1 Recovery\"]['age']\n",
    "stats.kruskal(Level_0_age,Level_1_age) "
   ]
  },
  {
   "cell_type": "markdown",
   "metadata": {},
   "source": [
    "From the Kruskal Result we receive a pvalue of 0.0629 which when compared with a alpha value of 0.05 we would fail to reject that the age distribution of the levels are different. \n",
    "\n",
    "Now to approach the same issue but for sex of the debtors in each level. we can address this questions statistically by construction a chi-square test of the percentage of cutomers that are female vs male."
   ]
  },
  {
   "cell_type": "code",
   "execution_count": null,
   "metadata": {},
   "outputs": [],
   "source": [
    "# no. of customers in each category\n",
    "crosstab = pd.crosstab(df.loc[(df['expected_recovery_amount']<1100) & \n",
    "                              (df['expected_recovery_amount']>=900)]['recovery_strategy'], \n",
    "                       df['sex'])\n",
    "print(crosstab)\n",
    "\n",
    "# chi-square test\n",
    "chi2_stat, p_val, dof, ex = stats.chi2_contingency(crosstab)\n",
    "print(p_val)"
   ]
  },
  {
   "cell_type": "markdown",
   "metadata": {},
   "source": [
    "Now that we have are reaconably assured that customers in level 0 and level 1 have similar age and gender breakdowns we can focus on the actual recovery amount. \n",
    "\n",
    "Next week I willl begin exaining the relationship between actual recovered amount and expected recovery amount."
   ]
  },
  {
   "cell_type": "code",
   "execution_count": null,
   "metadata": {},
   "outputs": [],
   "source": []
  },
  {
   "cell_type": "markdown",
   "metadata": {},
   "source": []
  },
  {
   "cell_type": "markdown",
   "metadata": {},
   "source": []
  },
  {
   "cell_type": "markdown",
   "metadata": {},
   "source": []
  }
 ],
 "metadata": {
  "kernelspec": {
   "display_name": "Python 3",
   "language": "python",
   "name": "python3"
  },
  "language_info": {
   "codemirror_mode": {
    "name": "ipython",
    "version": 3
   },
   "file_extension": ".py",
   "mimetype": "text/x-python",
   "name": "python",
   "nbconvert_exporter": "python",
   "pygments_lexer": "ipython3",
   "version": "3.7.3"
  }
 },
 "nbformat": 4,
 "nbformat_minor": 4
}
